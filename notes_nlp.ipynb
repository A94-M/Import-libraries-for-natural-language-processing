{
  "cells": [
    {
      "cell_type": "markdown",
      "id": "e57c5643-7083-430b-a907-e04e8bd51909",
      "metadata": {
        "id": "e57c5643-7083-430b-a907-e04e8bd51909"
      },
      "source": [
        "**Import libraries for natural language processing**"
      ]
    },
    {
      "cell_type": "code",
      "execution_count": null,
      "id": "8849a030-0da2-4fce-9981-0f129f002884",
      "metadata": {
        "id": "8849a030-0da2-4fce-9981-0f129f002884"
      },
      "outputs": [],
      "source": [
        "import re\n",
        "import nltk\n",
        "import spacy"
      ]
    },
    {
      "cell_type": "code",
      "execution_count": null,
      "id": "ae3fdc79-b418-42aa-8b68-6ba8745f83a6",
      "metadata": {
        "id": "ae3fdc79-b418-42aa-8b68-6ba8745f83a6",
        "outputId": "27a114ec-d424-40fa-d73f-ba20eea5fbcd"
      },
      "outputs": [
        {
          "name": "stdout",
          "output_type": "stream",
          "text": [
            "starting 12 and ending  17\n"
          ]
        }
      ],
      "source": [
        "pattern='phone'\n",
        "\n",
        "text=\"The agent's phone number is 408-555-1234. Call soon!,phone\"\n",
        "\n",
        "match=re.search(pattern,text)\n",
        "print(\"starting\",match.start(),\"and ending \",match.end())"
      ]
    },
    {
      "cell_type": "code",
      "execution_count": null,
      "id": "2d3ccc62-e074-48a5-bc37-d0bd3e11eaf3",
      "metadata": {
        "id": "2d3ccc62-e074-48a5-bc37-d0bd3e11eaf3",
        "outputId": "bf589f4c-f7ef-40b1-87fd-71b791b2cd55"
      },
      "outputs": [
        {
          "data": {
            "text/plain": [
              "2"
            ]
          },
          "execution_count": 3,
          "metadata": {},
          "output_type": "execute_result"
        }
      ],
      "source": [
        "match=re.findall(pattern,text)\n",
        "#number of repeat the word in text\n",
        "len(match)"
      ]
    },
    {
      "cell_type": "code",
      "execution_count": null,
      "id": "491b77ff-b3d6-48be-b16f-2cfa821a09ca",
      "metadata": {
        "id": "491b77ff-b3d6-48be-b16f-2cfa821a09ca",
        "outputId": "62559e55-25f3-4d4b-d260-73ed820a0e7c"
      },
      "outputs": [
        {
          "name": "stdout",
          "output_type": "stream",
          "text": [
            "None\n"
          ]
        }
      ],
      "source": [
        "word=re.search(r'/{3}-/d{3}-/d{3}.',text)\n",
        "print(word)"
      ]
    },
    {
      "cell_type": "code",
      "execution_count": null,
      "id": "8f4e1950-e539-4fb8-9b63-b42b458a7166",
      "metadata": {
        "id": "8f4e1950-e539-4fb8-9b63-b42b458a7166"
      },
      "outputs": [],
      "source": [
        "nlp=spacy.load('en_core_web_sm')"
      ]
    },
    {
      "cell_type": "code",
      "execution_count": null,
      "id": "53c100bf-a666-4db7-84fe-fa7bc415c52b",
      "metadata": {
        "id": "53c100bf-a666-4db7-84fe-fa7bc415c52b",
        "outputId": "2a2ef57a-6e50-4efc-d9f3-1fe91d475434"
      },
      "outputs": [
        {
          "name": "stdout",
          "output_type": "stream",
          "text": [
            "tesla\n",
            "is\n",
            "looking\n",
            "at\n",
            "usa\n"
          ]
        }
      ],
      "source": [
        "doc=nlp('tesla is looking at usa')\n",
        "for tok in doc:\n",
        "    print(tok)"
      ]
    },
    {
      "cell_type": "code",
      "execution_count": null,
      "id": "0855396e-7930-4b2c-bf42-067a5cdd8208",
      "metadata": {
        "id": "0855396e-7930-4b2c-bf42-067a5cdd8208",
        "outputId": "7177fe32-a619-4bb8-92e9-ea8daebeecd9"
      },
      "outputs": [
        {
          "name": "stdout",
          "output_type": "stream",
          "text": [
            "this \"tesla\" is \"False\" stopwords\n",
            "this \"is\" is \"True\" stopwords\n",
            "this \"looking\" is \"False\" stopwords\n",
            "this \"at\" is \"True\" stopwords\n",
            "this \"usa\" is \"False\" stopwords\n"
          ]
        }
      ],
      "source": [
        "#know this is stopword or not\n",
        "for i in doc:\n",
        "    print('this \"{}\" is \"{}\" stopwords'.format(i.text,i.is_stop))"
      ]
    },
    {
      "cell_type": "code",
      "execution_count": null,
      "id": "dbb3d755-7737-4a27-98e7-4ca91466e7a8",
      "metadata": {
        "id": "dbb3d755-7737-4a27-98e7-4ca91466e7a8"
      },
      "outputs": [],
      "source": [
        "from nltk.tokenize import word_tokenize , sent_tokenize\n",
        "# nltk.download('punkt')"
      ]
    },
    {
      "cell_type": "code",
      "execution_count": null,
      "id": "c5418c36-37c2-4309-a8e8-d72fa9a16d27",
      "metadata": {
        "id": "c5418c36-37c2-4309-a8e8-d72fa9a16d27"
      },
      "outputs": [],
      "source": [
        "text='NLP is natrual language processing. CV is computer vision'"
      ]
    },
    {
      "cell_type": "code",
      "execution_count": null,
      "id": "f872839b-e11b-4897-b5e8-f50b7581a117",
      "metadata": {
        "id": "f872839b-e11b-4897-b5e8-f50b7581a117",
        "outputId": "1db1a23c-0643-4684-bf3a-2c7d882d00c6"
      },
      "outputs": [
        {
          "name": "stdout",
          "output_type": "stream",
          "text": [
            "['NLP', 'is', 'natrual', 'language', 'processing', '.', 'CV', 'is', 'computer', 'vision']\n"
          ]
        }
      ],
      "source": [
        "print(word_tokenize(text))"
      ]
    },
    {
      "cell_type": "code",
      "execution_count": null,
      "id": "5421138a-0ca7-4abc-9b75-bb0c9940e039",
      "metadata": {
        "id": "5421138a-0ca7-4abc-9b75-bb0c9940e039",
        "outputId": "e725d600-2338-4007-932d-dff4c1714e9f"
      },
      "outputs": [
        {
          "name": "stdout",
          "output_type": "stream",
          "text": [
            "NLP is natrual language processing.\n",
            "CV is computer vision\n"
          ]
        }
      ],
      "source": [
        "print(sent_tokenize(text)[0])\n",
        "print(sent_tokenize(text)[1])"
      ]
    },
    {
      "cell_type": "markdown",
      "id": "92fad760-e000-4a1d-bff2-65d649bbdccc",
      "metadata": {
        "id": "92fad760-e000-4a1d-bff2-65d649bbdccc"
      },
      "source": [
        "<!-- **stopwors** -->"
      ]
    },
    {
      "cell_type": "code",
      "execution_count": null,
      "id": "e2fe7dd7-28b4-4887-99e6-c64abc666479",
      "metadata": {
        "id": "e2fe7dd7-28b4-4887-99e6-c64abc666479",
        "outputId": "ce03081f-75c3-4532-84c1-d0605c7677ce"
      },
      "outputs": [
        {
          "name": "stderr",
          "output_type": "stream",
          "text": [
            "[nltk_data] Downloading package stopwords to\n",
            "[nltk_data]     C:\\Users\\Dr\\AppData\\Roaming\\nltk_data...\n",
            "[nltk_data]   Package stopwords is already up-to-date!\n"
          ]
        },
        {
          "data": {
            "text/plain": [
              "True"
            ]
          },
          "execution_count": 12,
          "metadata": {},
          "output_type": "execute_result"
        }
      ],
      "source": [
        " nltk.download('stopwords')"
      ]
    },
    {
      "cell_type": "code",
      "execution_count": null,
      "id": "6348e871-4867-4b27-9f9a-8233ecd9bdc2",
      "metadata": {
        "id": "6348e871-4867-4b27-9f9a-8233ecd9bdc2",
        "outputId": "15958f36-f506-4388-f705-0bd949d933db"
      },
      "outputs": [
        {
          "name": "stdout",
          "output_type": "stream",
          "text": [
            "{'sixty', 'part', 'me', 'thereby', 'made', 'until', 'amount', 'there', 'ours', 'its', 'most', 'another', 'over', 'she', 'hence', 'top', 'amongst', 'such', 'whither', 'something', 'have', 'nothing', 'first', 'and', 'because', 'from', 'wherever', 'their', 'thereafter', 'beside', 'using', 'thence', 'four', 'become', 'both', 'formerly', 'please', 'ever', 'any', 'into', '‘re', 'again', 'neither', 'he', 'anyone', 'can', 'which', \"'ll\", 'cannot', 'everyone', 'be', 'together', \"'d\", 'front', 'third', \"'re\", 'somehow', 'for', 'became', 'just', 'whenever', 'nevertheless', 'ca', 'an', 'give', 'all', 'anyhow', 'two', 'well', 'anywhere', 'toward', 'next', 'while', 're', 'same', \"'m\", 'becomes', 'we', '‘ve', 'those', 'regarding', 'do', 'whereas', 'call', 'done', 'behind', 'since', 'beforehand', 'perhaps', 'towards', 'where', 'seeming', 'very', 'who', 'through', 'after', 'whole', 'himself', 'no', 'rather', 'being', 'thereupon', 'twelve', 'they', 'mine', 'also', '‘d', 'or', 'bottom', 'whom', 'it', 'name', 'show', 'via', 'has', 'eight', 'get', 'make', 'wherein', '‘m', 'of', 'otherwise', 'hereupon', 'own', 'nobody', 'afterwards', 'about', 'empty', 'doing', 'mostly', 'am', 'due', 'often', 'but', 'when', 'above', 'whose', 'whereby', 'i', 'onto', 'somewhere', 'between', 'full', 'former', '’d', 'already', 'off', 'will', 'always', 'other', 'everywhere', 'my', 'alone', 'our', 'within', 'twenty', 'latterly', 'herein', 'these', 'however', 'whatever', 'across', 'used', 'whoever', 'up', 'several', 'anyway', 'unless', 'except', \"'s\", 'this', 'upon', 'much', '’m', 'less', 'may', 'been', 'every', 'more', 'one', 'side', 'by', 'therefore', 'below', 'was', 'themselves', 'in', 'to', 'fifty', 'five', 'per', 'should', 'sometime', 'does', 'if', 'others', 'before', 'along', 'throughout', 'take', 'everything', 'go', 'sometimes', 'were', 'thru', 'once', '’s', 'only', 'seem', 'as', 'thus', 'n‘t', 'eleven', 'keep', 'her', 'so', 'hers', 'yourselves', 'last', 'quite', 'is', 'meanwhile', 'almost', 'anything', 'else', 'hundred', 'him', 'hereby', \"'ve\", '’ve', 'what', 'among', '‘s', 'against', 'under', 'yet', 'that', 'enough', 'ten', 'beyond', 'nowhere', 'a', 'indeed', 'might', '’re', 'nine', 'without', 'herself', 'put', 'each', 'the', 'see', '‘ll', 'many', 'noone', 'fifteen', 'now', 'someone', 'seems', 'still', 'say', 'are', 'with', '’ll', 'whereupon', 'least', \"n't\", 'myself', 'nor', 'even', 'few', 'then', 'elsewhere', 'not', 'move', 'though', 'whereafter', 'becoming', 'namely', 'three', 'had', 'although', 'whether', 'various', 'six', 'really', 'around', 'forty', 'latter', 'whence', 'yourself', 'out', 'too', 'never', 'during', 'some', 'them', 'moreover', 'n’t', 'seemed', 'on', 'back', 'yours', 'why', 'down', 'hereafter', 'besides', 'serious', 'further', 'itself', 'your', 'us', 'must', 'ourselves', 'did', 'you', 'than', 'here', 'would', 'at', 'how', 'his', 'either', 'could', 'none', 'therein'}\n"
          ]
        }
      ],
      "source": [
        "#all stopwords in en core web sm\n",
        "print(nlp.Defaults.stop_words)"
      ]
    },
    {
      "cell_type": "code",
      "execution_count": null,
      "id": "d4c68417-7335-44f0-ae52-3ea5051d5eab",
      "metadata": {
        "id": "d4c68417-7335-44f0-ae52-3ea5051d5eab",
        "outputId": "25a8359e-9a00-4748-defd-79948fdb0c96"
      },
      "outputs": [
        {
          "data": {
            "text/plain": [
              "True"
            ]
          },
          "execution_count": 14,
          "metadata": {},
          "output_type": "execute_result"
        }
      ],
      "source": [
        "#to know this words stop word or not\n",
        "nlp.vocab['such'].is_stop"
      ]
    },
    {
      "cell_type": "code",
      "execution_count": null,
      "id": "f7eb83ec-a170-4492-9214-000a09a7988f",
      "metadata": {
        "id": "f7eb83ec-a170-4492-9214-000a09a7988f",
        "outputId": "1109be2a-b5f1-4011-dfe3-f4ed5a27674f"
      },
      "outputs": [
        {
          "data": {
            "text/plain": [
              "False"
            ]
          },
          "execution_count": 15,
          "metadata": {},
          "output_type": "execute_result"
        }
      ],
      "source": [
        "nlp.vocab['world'].is_stop"
      ]
    },
    {
      "cell_type": "code",
      "execution_count": null,
      "id": "6c21f634-3428-4ebd-8e02-14d00defefda",
      "metadata": {
        "id": "6c21f634-3428-4ebd-8e02-14d00defefda"
      },
      "outputs": [],
      "source": [
        "# to add wor in stopwords\n",
        "nlp.vocab['world'].is_stop=True\n",
        "\n",
        "#delete word\n",
        "nlp.vocab['such'].is_stop=False"
      ]
    },
    {
      "cell_type": "code",
      "execution_count": null,
      "id": "195cb616-d1d4-4d3a-b658-167f3ecb7919",
      "metadata": {
        "id": "195cb616-d1d4-4d3a-b658-167f3ecb7919",
        "outputId": "f98ad1c5-72b0-4ed5-9384-4697713fe0b1"
      },
      "outputs": [
        {
          "data": {
            "text/plain": [
              "True"
            ]
          },
          "execution_count": 17,
          "metadata": {},
          "output_type": "execute_result"
        }
      ],
      "source": [
        "nlp.vocab['world'].is_stop"
      ]
    },
    {
      "cell_type": "code",
      "execution_count": null,
      "id": "ac5297da-60ad-4372-ad9f-8b7f5fd4f4b5",
      "metadata": {
        "id": "ac5297da-60ad-4372-ad9f-8b7f5fd4f4b5",
        "outputId": "c18ace65-8a86-4f65-b0fa-0a431fc91209"
      },
      "outputs": [
        {
          "data": {
            "text/plain": [
              "False"
            ]
          },
          "execution_count": 18,
          "metadata": {},
          "output_type": "execute_result"
        }
      ],
      "source": [
        "nlp.vocab['such'].is_stop"
      ]
    },
    {
      "cell_type": "code",
      "execution_count": null,
      "id": "c97d1746-413b-4d37-a0da-fc49f81c0ff2",
      "metadata": {
        "id": "c97d1746-413b-4d37-a0da-fc49f81c0ff2"
      },
      "outputs": [],
      "source": [
        "from nltk.corpus import stopwords"
      ]
    },
    {
      "cell_type": "code",
      "execution_count": null,
      "id": "40a55fa3-21f0-415d-8dca-89440c970408",
      "metadata": {
        "id": "40a55fa3-21f0-415d-8dca-89440c970408",
        "outputId": "65206295-0149-4b83-e727-3df7c2456ba5"
      },
      "outputs": [
        {
          "data": {
            "text/plain": [
              "179"
            ]
          },
          "execution_count": 20,
          "metadata": {},
          "output_type": "execute_result"
        }
      ],
      "source": [
        "words=set(stopwords.words('english'))\n",
        "len(words)"
      ]
    },
    {
      "cell_type": "code",
      "execution_count": null,
      "id": "22f04528-7b0e-4ff2-b17b-c57a25f8e8f9",
      "metadata": {
        "id": "22f04528-7b0e-4ff2-b17b-c57a25f8e8f9"
      },
      "outputs": [],
      "source": [
        "sent = 'This is a sample sentence, And This showing off the stop words filtration.'"
      ]
    },
    {
      "cell_type": "code",
      "execution_count": null,
      "id": "a8d8bfb8-6a78-4f1b-8636-9c7c0112d7df",
      "metadata": {
        "id": "a8d8bfb8-6a78-4f1b-8636-9c7c0112d7df",
        "outputId": "49aa36f2-ca84-44de-af31-d3a37008e842"
      },
      "outputs": [
        {
          "name": "stdout",
          "output_type": "stream",
          "text": [
            "['This', 'sample', 'sentence', ',', 'And', 'This', 'showing', 'stop', 'words', 'filtration', '.']\n"
          ]
        }
      ],
      "source": [
        "sent=[w for w in word_tokenize(sent) if w not in words]\n",
        "print(sent)"
      ]
    },
    {
      "cell_type": "markdown",
      "id": "861240c1-cb6f-46e9-ae58-a90f07a1f532",
      "metadata": {
        "id": "861240c1-cb6f-46e9-ae58-a90f07a1f532"
      },
      "source": [
        "vector the word"
      ]
    },
    {
      "cell_type": "code",
      "execution_count": null,
      "id": "86d9da82-a890-4262-8bee-d1dd5a7dc898",
      "metadata": {
        "id": "86d9da82-a890-4262-8bee-d1dd5a7dc898",
        "outputId": "653cbb98-de46-4f34-cd77-9b44ea7ac4c8"
      },
      "outputs": [
        {
          "name": "stdout",
          "output_type": "stream",
          "text": [
            "the vector this words [-1.5262061  -1.167995   -0.144393    0.32170087 -0.6905924  -0.5038493\n",
            "  0.9763243   1.9550867   0.3819441  -0.30485898  0.96387076 -1.2587094\n",
            " -0.05831194  0.51774347 -0.44914436  1.3445     -1.6175625  -2.0420065\n",
            "  1.2360976   0.7776792  -0.13443762  1.7235439  -0.83798647 -0.5895857\n",
            "  1.2817655   0.9301836  -0.35539728  0.4836049  -0.9541392   0.65983915\n",
            " -0.7222876   1.2426298   1.9382288   0.35763937  0.03719398 -2.2489638\n",
            "  0.11659672 -0.0499794   0.8462586  -0.40097237 -0.666844    0.3695969\n",
            " -0.03367633  0.57279664 -0.84068686 -1.3656495  -0.84039336  0.70931244\n",
            "  0.16778696 -0.29701275  1.0912491   0.8486415  -0.40538186 -0.35671216\n",
            " -0.59399366 -0.30547184  2.154234    0.0537383  -0.15647951 -0.80231726\n",
            " -1.2894118  -0.75792956  1.1021466  -0.6275586  -0.63072443  0.38251412\n",
            " -0.42410967  0.4457018   1.4739138  -0.01392421 -0.2557665   0.46527553\n",
            "  0.8087933  -0.6153078  -0.4678379   0.35624543 -1.0104861   0.0387204\n",
            "  0.59837747 -1.6128455  -0.32119456 -1.0647601  -2.098218   -0.6770563\n",
            "  1.2431545   0.91763806  0.64725626  1.3175919  -0.80358416  0.6402223\n",
            " -1.1799393  -0.09239006  1.6541893   0.80904245 -0.02473423  1.8077284 ] \n",
            " \n",
            " and length of words is 96\n"
          ]
        }
      ],
      "source": [
        "print(\"the vector this words {} \\n \\n and length of words is {}\".format( nlp(u'asem').vector,len(nlp(u'asem').vector)))"
      ]
    },
    {
      "cell_type": "code",
      "execution_count": null,
      "id": "78ddd9e1-8b39-4b44-966b-203f0aff5264",
      "metadata": {
        "id": "78ddd9e1-8b39-4b44-966b-203f0aff5264",
        "outputId": "93024dd1-2806-4fba-dd86-60f508cfc5f5"
      },
      "outputs": [
        {
          "data": {
            "text/plain": [
              "96"
            ]
          },
          "execution_count": 24,
          "metadata": {},
          "output_type": "execute_result"
        }
      ],
      "source": [
        "len(nlp(u'lion').vector)"
      ]
    },
    {
      "cell_type": "code",
      "execution_count": null,
      "id": "98c7dbde-de6c-40a1-a602-5821b6fda051",
      "metadata": {
        "id": "98c7dbde-de6c-40a1-a602-5821b6fda051",
        "outputId": "a81574c6-ad65-4296-dafb-5db9bde5f8a5"
      },
      "outputs": [
        {
          "data": {
            "text/plain": [
              "96"
            ]
          },
          "execution_count": 25,
          "metadata": {},
          "output_type": "execute_result"
        }
      ],
      "source": [
        "em_text=nlp(u'i go to the club ')\n",
        "len(em_text.vector)\n",
        "#the result is mean for vector of word in the em_text"
      ]
    },
    {
      "cell_type": "code",
      "execution_count": null,
      "id": "c7f3b474-712a-4d2c-9735-34cfdf1128a6",
      "metadata": {
        "id": "c7f3b474-712a-4d2c-9735-34cfdf1128a6",
        "outputId": "f916f4ca-8ee2-4293-b514-29b774326ae7"
      },
      "outputs": [
        {
          "name": "stdout",
          "output_type": "stream",
          "text": [
            "the similar between word ['lion' / 'lion'] is 1.0\n",
            "the similar between word ['like' / 'lion'] is 0.05036158859729767\n",
            "the similar between word ['cat' / 'lion'] is 0.3428743779659271\n",
            "the similar between word ['lion' / 'like'] is 0.05036158859729767\n",
            "the similar between word ['like' / 'like'] is 1.0\n",
            "the similar between word ['cat' / 'like'] is 0.0037387285847216845\n",
            "the similar between word ['lion' / 'cat'] is 0.3428743779659271\n",
            "the similar between word ['like' / 'cat'] is 0.0037387285847216845\n",
            "the similar between word ['cat' / 'cat'] is 1.0\n"
          ]
        },
        {
          "name": "stderr",
          "output_type": "stream",
          "text": [
            "C:\\Users\\Dr\\AppData\\Local\\Temp\\ipykernel_10820\\2425232945.py:4: UserWarning: [W007] The model you're using has no word vectors loaded, so the result of the Token.similarity method will be based on the tagger, parser and NER, which may not give useful similarity judgements. This may happen if you're using one of the small models, e.g. `en_core_web_sm`, which don't ship with word vectors and only use context-sensitive tensors. You can always add your own word vectors, or use one of the larger models instead if available.\n",
            "  print(\"the similar between word ['{}' / '{}'] is {}\".format(j,i,i.similarity(j)))\n"
          ]
        }
      ],
      "source": [
        "sent=nlp(u'lion like cat')\n",
        "for i in sent:\n",
        "    for j in sent:\n",
        "        print(\"the similar between word ['{}' / '{}'] is {}\".format(j,i,i.similarity(j)))"
      ]
    },
    {
      "cell_type": "code",
      "execution_count": null,
      "id": "dba94cc9-b232-47a7-aff6-02e85012f331",
      "metadata": {
        "id": "dba94cc9-b232-47a7-aff6-02e85012f331",
        "outputId": "e0822c07-40ea-477b-9034-febbe5ead2f4"
      },
      "outputs": [
        {
          "name": "stderr",
          "output_type": "stream",
          "text": [
            "C:\\Users\\Dr\\AppData\\Local\\Temp\\ipykernel_10820\\4025869453.py:1: UserWarning: [W007] The model you're using has no word vectors loaded, so the result of the Doc.similarity method will be based on the tagger, parser and NER, which may not give useful similarity judgements. This may happen if you're using one of the small models, e.g. `en_core_web_sm`, which don't ship with word vectors and only use context-sensitive tensors. You can always add your own word vectors, or use one of the larger models instead if available.\n",
            "  nlp(u'cat').similarity(nlp(u'lion'))\n"
          ]
        },
        {
          "data": {
            "text/plain": [
              "0.7205435600337312"
            ]
          },
          "execution_count": 27,
          "metadata": {},
          "output_type": "execute_result"
        }
      ],
      "source": [
        "nlp(u'cat').similarity(nlp(u'lion'))"
      ]
    },
    {
      "cell_type": "markdown",
      "id": "cae94e6a-bc2b-482a-b095-d436a200e1ae",
      "metadata": {
        "id": "cae94e6a-bc2b-482a-b095-d436a200e1ae"
      },
      "source": [
        "**TFIDF VECTORIZER**"
      ]
    },
    {
      "cell_type": "code",
      "execution_count": null,
      "id": "6d17e0c7-6b0a-4bc4-b5b2-0228f0470d00",
      "metadata": {
        "id": "6d17e0c7-6b0a-4bc4-b5b2-0228f0470d00",
        "outputId": "b816be45-4bf0-4d01-d9dc-9de2cd1b38a9"
      },
      "outputs": [
        {
          "data": {
            "text/plain": [
              "<1x7 sparse matrix of type '<class 'numpy.float64'>'\n",
              "\twith 7 stored elements in Compressed Sparse Row format>"
            ]
          },
          "execution_count": 28,
          "metadata": {},
          "output_type": "execute_result"
        }
      ],
      "source": [
        "from sklearn.feature_extraction.text import TfidfVectorizer\n",
        "import pandas as pd\n",
        "sentt=['This showing off the stop words filtration']\n",
        "tfidf=TfidfVectorizer()\n",
        "sen_td=tfidf.fit_transform(sentt)\n",
        "sen_td"
      ]
    },
    {
      "cell_type": "code",
      "execution_count": null,
      "id": "2ca7fd28-8e23-4503-a517-7d332b133349",
      "metadata": {
        "id": "2ca7fd28-8e23-4503-a517-7d332b133349",
        "outputId": "1fc15b93-c888-4432-bb4b-c080e9f59801"
      },
      "outputs": [
        {
          "data": {
            "text/plain": [
              "array(['filtration', 'off', 'showing', 'stop', 'the', 'this', 'words'],\n",
              "      dtype=object)"
            ]
          },
          "execution_count": 29,
          "metadata": {},
          "output_type": "execute_result"
        }
      ],
      "source": [
        "feature_names = tfidf.get_feature_names_out()\n",
        "feature_names"
      ]
    },
    {
      "cell_type": "code",
      "execution_count": null,
      "id": "8f57b50c-127c-4286-abe6-5eec2b06da7d",
      "metadata": {
        "id": "8f57b50c-127c-4286-abe6-5eec2b06da7d"
      },
      "outputs": [],
      "source": [
        "# nltk.download('vader_lexicon')"
      ]
    },
    {
      "cell_type": "code",
      "execution_count": null,
      "id": "384ac54a-0253-4017-b396-e55401c6c77f",
      "metadata": {
        "id": "384ac54a-0253-4017-b396-e55401c6c77f"
      },
      "outputs": [],
      "source": [
        "from nltk.sentiment.vader import SentimentIntensityAnalyzer\n",
        "sid = SentimentIntensityAnalyzer()"
      ]
    },
    {
      "cell_type": "code",
      "execution_count": null,
      "id": "7d4eb9f4-bb6c-4911-af20-490cf2fc6cd9",
      "metadata": {
        "id": "7d4eb9f4-bb6c-4911-af20-490cf2fc6cd9",
        "outputId": "d9687098-f726-48f9-d9bf-da07ffc4b4e7"
      },
      "outputs": [
        {
          "data": {
            "text/plain": [
              "{'neg': 0.0, 'neu': 0.508, 'pos': 0.492, 'compound': 0.4404}"
            ]
          },
          "execution_count": 32,
          "metadata": {},
          "output_type": "execute_result"
        }
      ],
      "source": [
        "score='this is good movia'\n",
        "df=sid.polarity_scores(score)\n",
        "df"
      ]
    },
    {
      "cell_type": "code",
      "execution_count": null,
      "id": "b16b3854-da51-4982-b4a4-5f4daaa58329",
      "metadata": {
        "id": "b16b3854-da51-4982-b4a4-5f4daaa58329",
        "outputId": "c1a31f0f-4539-4837-eafa-66d7d991c8c7"
      },
      "outputs": [
        {
          "data": {
            "text/plain": [
              "<BarContainer object of 4 artists>"
            ]
          },
          "execution_count": 33,
          "metadata": {},
          "output_type": "execute_result"
        },
        {
          "data": {
            "image/png": "[encoded data removed]",
            "text/plain": [
              "<Figure size 640x480 with 1 Axes>"
            ]
          },
          "metadata": {},
          "output_type": "display_data"
        }
      ],
      "source": [
        "import matplotlib.pyplot as plt\n",
        "plt.bar(df.keys(),df.values())"
      ]
    },
    {
      "cell_type": "markdown",
      "id": "cf4f6330-f6a0-4e48-96bb-38993e85bbb8",
      "metadata": {
        "id": "cf4f6330-f6a0-4e48-96bb-38993e85bbb8"
      },
      "source": [
        "## outo correct"
      ]
    },
    {
      "cell_type": "code",
      "execution_count": null,
      "id": "47efce43-8423-46c0-995e-5529f750e68d",
      "metadata": {
        "id": "47efce43-8423-46c0-995e-5529f750e68d"
      },
      "outputs": [],
      "source": [
        "from autocorrect import Speller"
      ]
    },
    {
      "cell_type": "code",
      "execution_count": null,
      "id": "e3de7d4b-d42d-4ca0-91af-918e17c2ea67",
      "metadata": {
        "id": "e3de7d4b-d42d-4ca0-91af-918e17c2ea67",
        "outputId": "56027680-05b9-49b0-b6e3-cee04dfbc520"
      },
      "outputs": [
        {
          "name": "stdout",
          "output_type": "stream",
          "text": [
            "phase is << I going to clob tommorroow >> \n",
            "and the correct phase is << I going to club tomorrow >>\n"
          ]
        }
      ],
      "source": [
        "spell=Speller(lang='en')\n",
        "text='I going to clob tommorroow'\n",
        "print('phase is << {} >> \\nand the correct phase is << {} >>'.format(text,spell(text)))"
      ]
    },
    {
      "cell_type": "code",
      "execution_count": null,
      "id": "73fcb05e-350e-45e5-a9a8-4f1c07e82fbd",
      "metadata": {
        "id": "73fcb05e-350e-45e5-a9a8-4f1c07e82fbd"
      },
      "outputs": [],
      "source": [
        "from spellchecker import SpellChecker"
      ]
    },
    {
      "cell_type": "code",
      "execution_count": null,
      "id": "9e628c61-1adc-40ea-962e-b2301bc683c8",
      "metadata": {
        "id": "9e628c61-1adc-40ea-962e-b2301bc683c8",
        "outputId": "3240e4f3-7921-42ae-fcdd-a06d92edcbdf"
      },
      "outputs": [
        {
          "data": {
            "text/plain": [
              "'address'"
            ]
          },
          "execution_count": 37,
          "metadata": {},
          "output_type": "execute_result"
        }
      ],
      "source": [
        "sp=SpellChecker()\n",
        "sp.correction('addrest')"
      ]
    },
    {
      "cell_type": "code",
      "execution_count": null,
      "id": "ad398588-0f6a-44b8-8f84-c2ca4d98f80e",
      "metadata": {
        "id": "ad398588-0f6a-44b8-8f84-c2ca4d98f80e",
        "outputId": "9de9f558-e11a-41fc-8aec-6d3d676ee2ed"
      },
      "outputs": [
        {
          "data": {
            "text/plain": [
              "'today'"
            ]
          },
          "execution_count": 38,
          "metadata": {},
          "output_type": "execute_result"
        }
      ],
      "source": [
        "sp.correction('todah')"
      ]
    },
    {
      "cell_type": "code",
      "execution_count": null,
      "id": "d3df9cf6-59d6-4376-af54-4a240fad148a",
      "metadata": {
        "id": "d3df9cf6-59d6-4376-af54-4a240fad148a",
        "outputId": "88c86add-9b1c-4dfc-95e1-36bd03c97d0a"
      },
      "outputs": [
        {
          "name": "stdout",
          "output_type": "stream",
          "text": [
            "he\n",
            "is\n",
            "going\n",
            "to\n",
            "the\n",
            "school\n"
          ]
        }
      ],
      "source": [
        "text='he is goitg to thp school'\n",
        "for i in text.split():\n",
        "    print(sp.correction(i))"
      ]
    },
    {
      "cell_type": "code",
      "execution_count": null,
      "id": "871e9fc9-37f4-4586-bab3-26742bf39bd6",
      "metadata": {
        "id": "871e9fc9-37f4-4586-bab3-26742bf39bd6",
        "outputId": "ce507cca-cf68-4270-ec9d-9a4843590729"
      },
      "outputs": [
        {
          "data": {
            "text/plain": [
              "{'afer', 'affer', 'after', 'arer'}"
            ]
          },
          "execution_count": 40,
          "metadata": {},
          "output_type": "execute_result"
        }
      ],
      "source": [
        "#near words for the word\n",
        "sp.candidates('afrer')"
      ]
    },
    {
      "cell_type": "code",
      "execution_count": null,
      "id": "80c7ab92-d7e1-408c-b597-b95fa428b96a",
      "metadata": {
        "id": "80c7ab92-d7e1-408c-b597-b95fa428b96a"
      },
      "outputs": [],
      "source": [
        "from textblob import Word"
      ]
    },
    {
      "cell_type": "code",
      "execution_count": null,
      "id": "a96eef2e-e4af-4007-abd8-3c14d8c5908a",
      "metadata": {
        "id": "a96eef2e-e4af-4007-abd8-3c14d8c5908a",
        "outputId": "f54f1975-96bf-4f8e-eee4-3178f99cfe6a"
      },
      "outputs": [
        {
          "data": {
            "text/plain": [
              "[('work', 0.32345469940728194),\n",
              " ('world', 0.3065198983911939),\n",
              " ('word', 0.2523285351397121),\n",
              " ('works', 0.0838272650296359),\n",
              " ('worked', 0.03386960203217612)]"
            ]
          },
          "execution_count": 42,
          "metadata": {},
          "output_type": "execute_result"
        }
      ],
      "source": [
        "#probablity of near word for word\n",
        "w=Word('workd')\n",
        "w.spellcheck()"
      ]
    },
    {
      "cell_type": "code",
      "execution_count": null,
      "id": "ea2382fa-c8b9-4b9a-be4c-2321d099bc82",
      "metadata": {
        "id": "ea2382fa-c8b9-4b9a-be4c-2321d099bc82"
      },
      "outputs": [],
      "source": [
        "from spacy import displacy"
      ]
    },
    {
      "cell_type": "code",
      "execution_count": null,
      "id": "07622332-fe39-4cc5-8f09-636264285e36",
      "metadata": {
        "id": "07622332-fe39-4cc5-8f09-636264285e36",
        "outputId": "aa27c83f-1a21-4096-c8f5-acd744bdd149"
      },
      "outputs": [
        {
          "data": {
            "text/html": [
              "<span class=\"tex2jax_ignore\"><svg xmlns=\"http://www.w3.org/2000/svg\" xmlns:xlink=\"http://www.w3.org/1999/xlink\" xml:lang=\"en\" id=\"64a9d48ee9ed4af898dd35b65d624095-0\" class=\"displacy\" width=\"1625\" height=\"312.0\" direction=\"ltr\" style=\"max-width: none; height: 312.0px; color: #000000; background: #ffffff; font-family: Arial; direction: ltr\">\n",
              "<text class=\"displacy-token\" fill=\"currentColor\" text-anchor=\"middle\" y=\"222.0\">\n",
              "    <tspan class=\"displacy-word\" fill=\"currentColor\" x=\"50\">Successfully</tspan>\n",
              "    <tspan class=\"displacy-tag\" dy=\"2em\" fill=\"currentColor\" x=\"50\">ADV</tspan>\n",
              "</text>\n",
              "\n",
              "<text class=\"displacy-token\" fill=\"currentColor\" text-anchor=\"middle\" y=\"222.0\">\n",
              "    <tspan class=\"displacy-word\" fill=\"currentColor\" x=\"225\">downloaded</tspan>\n",
              "    <tspan class=\"displacy-tag\" dy=\"2em\" fill=\"currentColor\" x=\"225\">VERB</tspan>\n",
              "</text>\n",
              "\n",
              "<text class=\"displacy-token\" fill=\"currentColor\" text-anchor=\"middle\" y=\"222.0\">\n",
              "    <tspan class=\"displacy-word\" fill=\"currentColor\" x=\"400\">textblob</tspan>\n",
              "    <tspan class=\"displacy-tag\" dy=\"2em\" fill=\"currentColor\" x=\"400\">NOUN</tspan>\n",
              "</text>\n",
              "\n",
              "<text class=\"displacy-token\" fill=\"currentColor\" text-anchor=\"middle\" y=\"222.0\">\n",
              "    <tspan class=\"displacy-word\" fill=\"currentColor\" x=\"575\">nltk</tspan>\n",
              "    <tspan class=\"displacy-tag\" dy=\"2em\" fill=\"currentColor\" x=\"575\">NOUN</tspan>\n",
              "</text>\n",
              "\n",
              "<text class=\"displacy-token\" fill=\"currentColor\" text-anchor=\"middle\" y=\"222.0\">\n",
              "    <tspan class=\"displacy-word\" fill=\"currentColor\" x=\"750\">regex</tspan>\n",
              "    <tspan class=\"displacy-tag\" dy=\"2em\" fill=\"currentColor\" x=\"750\">NOUN</tspan>\n",
              "</text>\n",
              "\n",
              "<text class=\"displacy-token\" fill=\"currentColor\" text-anchor=\"middle\" y=\"222.0\">\n",
              "    <tspan class=\"displacy-word\" fill=\"currentColor\" x=\"925\">click</tspan>\n",
              "    <tspan class=\"displacy-tag\" dy=\"2em\" fill=\"currentColor\" x=\"925\">VERB</tspan>\n",
              "</text>\n",
              "\n",
              "<text class=\"displacy-token\" fill=\"currentColor\" text-anchor=\"middle\" y=\"222.0\">\n",
              "    <tspan class=\"displacy-word\" fill=\"currentColor\" x=\"1100\">joblib</tspan>\n",
              "    <tspan class=\"displacy-tag\" dy=\"2em\" fill=\"currentColor\" x=\"1100\">PROPN</tspan>\n",
              "</text>\n",
              "\n",
              "<text class=\"displacy-token\" fill=\"currentColor\" text-anchor=\"middle\" y=\"222.0\">\n",
              "    <tspan class=\"displacy-word\" fill=\"currentColor\" x=\"1275\">tqdm</tspan>\n",
              "    <tspan class=\"displacy-tag\" dy=\"2em\" fill=\"currentColor\" x=\"1275\">PROPN</tspan>\n",
              "</text>\n",
              "\n",
              "<text class=\"displacy-token\" fill=\"currentColor\" text-anchor=\"middle\" y=\"222.0\">\n",
              "    <tspan class=\"displacy-word\" fill=\"currentColor\" x=\"1450\">colorama</tspan>\n",
              "    <tspan class=\"displacy-tag\" dy=\"2em\" fill=\"currentColor\" x=\"1450\">PROPN</tspan>\n",
              "</text>\n",
              "\n",
              "<g class=\"displacy-arrow\">\n",
              "    <path class=\"displacy-arc\" id=\"arrow-64a9d48ee9ed4af898dd35b65d624095-0-0\" stroke-width=\"2px\" d=\"M70,177.0 C70,89.5 220.0,89.5 220.0,177.0\" fill=\"none\" stroke=\"currentColor\"/>\n",
              "    <text dy=\"1.25em\" style=\"font-size: 0.8em; letter-spacing: 1px\">\n",
              "        <textPath xlink:href=\"#arrow-64a9d48ee9ed4af898dd35b65d624095-0-0\" class=\"displacy-label\" startOffset=\"50%\" side=\"left\" fill=\"currentColor\" text-anchor=\"middle\">advmod</textPath>\n",
              "    </text>\n",
              "    <path class=\"displacy-arrowhead\" d=\"M70,179.0 L62,167.0 78,167.0\" fill=\"currentColor\"/>\n",
              "</g>\n",
              "\n",
              "<g class=\"displacy-arrow\">\n",
              "    <path class=\"displacy-arc\" id=\"arrow-64a9d48ee9ed4af898dd35b65d624095-0-1\" stroke-width=\"2px\" d=\"M245,177.0 C245,2.0 750.0,2.0 750.0,177.0\" fill=\"none\" stroke=\"currentColor\"/>\n",
              "    <text dy=\"1.25em\" style=\"font-size: 0.8em; letter-spacing: 1px\">\n",
              "        <textPath xlink:href=\"#arrow-64a9d48ee9ed4af898dd35b65d624095-0-1\" class=\"displacy-label\" startOffset=\"50%\" side=\"left\" fill=\"currentColor\" text-anchor=\"middle\">amod</textPath>\n",
              "    </text>\n",
              "    <path class=\"displacy-arrowhead\" d=\"M245,179.0 L237,167.0 253,167.0\" fill=\"currentColor\"/>\n",
              "</g>\n",
              "\n",
              "<g class=\"displacy-arrow\">\n",
              "    <path class=\"displacy-arc\" id=\"arrow-64a9d48ee9ed4af898dd35b65d624095-0-2\" stroke-width=\"2px\" d=\"M420,177.0 C420,89.5 570.0,89.5 570.0,177.0\" fill=\"none\" stroke=\"currentColor\"/>\n",
              "    <text dy=\"1.25em\" style=\"font-size: 0.8em; letter-spacing: 1px\">\n",
              "        <textPath xlink:href=\"#arrow-64a9d48ee9ed4af898dd35b65d624095-0-2\" class=\"displacy-label\" startOffset=\"50%\" side=\"left\" fill=\"currentColor\" text-anchor=\"middle\">compound</textPath>\n",
              "    </text>\n",
              "    <path class=\"displacy-arrowhead\" d=\"M420,179.0 L412,167.0 428,167.0\" fill=\"currentColor\"/>\n",
              "</g>\n",
              "\n",
              "<g class=\"displacy-arrow\">\n",
              "    <path class=\"displacy-arc\" id=\"arrow-64a9d48ee9ed4af898dd35b65d624095-0-3\" stroke-width=\"2px\" d=\"M595,177.0 C595,89.5 745.0,89.5 745.0,177.0\" fill=\"none\" stroke=\"currentColor\"/>\n",
              "    <text dy=\"1.25em\" style=\"font-size: 0.8em; letter-spacing: 1px\">\n",
              "        <textPath xlink:href=\"#arrow-64a9d48ee9ed4af898dd35b65d624095-0-3\" class=\"displacy-label\" startOffset=\"50%\" side=\"left\" fill=\"currentColor\" text-anchor=\"middle\">compound</textPath>\n",
              "    </text>\n",
              "    <path class=\"displacy-arrowhead\" d=\"M595,179.0 L587,167.0 603,167.0\" fill=\"currentColor\"/>\n",
              "</g>\n",
              "\n",
              "<g class=\"displacy-arrow\">\n",
              "    <path class=\"displacy-arc\" id=\"arrow-64a9d48ee9ed4af898dd35b65d624095-0-4\" stroke-width=\"2px\" d=\"M770,177.0 C770,89.5 920.0,89.5 920.0,177.0\" fill=\"none\" stroke=\"currentColor\"/>\n",
              "    <text dy=\"1.25em\" style=\"font-size: 0.8em; letter-spacing: 1px\">\n",
              "        <textPath xlink:href=\"#arrow-64a9d48ee9ed4af898dd35b65d624095-0-4\" class=\"displacy-label\" startOffset=\"50%\" side=\"left\" fill=\"currentColor\" text-anchor=\"middle\">nsubj</textPath>\n",
              "    </text>\n",
              "    <path class=\"displacy-arrowhead\" d=\"M770,179.0 L762,167.0 778,167.0\" fill=\"currentColor\"/>\n",
              "</g>\n",
              "\n",
              "<g class=\"displacy-arrow\">\n",
              "    <path class=\"displacy-arc\" id=\"arrow-64a9d48ee9ed4af898dd35b65d624095-0-5\" stroke-width=\"2px\" d=\"M1120,177.0 C1120,89.5 1270.0,89.5 1270.0,177.0\" fill=\"none\" stroke=\"currentColor\"/>\n",
              "    <text dy=\"1.25em\" style=\"font-size: 0.8em; letter-spacing: 1px\">\n",
              "        <textPath xlink:href=\"#arrow-64a9d48ee9ed4af898dd35b65d624095-0-5\" class=\"displacy-label\" startOffset=\"50%\" side=\"left\" fill=\"currentColor\" text-anchor=\"middle\">compound</textPath>\n",
              "    </text>\n",
              "    <path class=\"displacy-arrowhead\" d=\"M1120,179.0 L1112,167.0 1128,167.0\" fill=\"currentColor\"/>\n",
              "</g>\n",
              "\n",
              "<g class=\"displacy-arrow\">\n",
              "    <path class=\"displacy-arc\" id=\"arrow-64a9d48ee9ed4af898dd35b65d624095-0-6\" stroke-width=\"2px\" d=\"M945,177.0 C945,2.0 1275.0,2.0 1275.0,177.0\" fill=\"none\" stroke=\"currentColor\"/>\n",
              "    <text dy=\"1.25em\" style=\"font-size: 0.8em; letter-spacing: 1px\">\n",
              "        <textPath xlink:href=\"#arrow-64a9d48ee9ed4af898dd35b65d624095-0-6\" class=\"displacy-label\" startOffset=\"50%\" side=\"left\" fill=\"currentColor\" text-anchor=\"middle\">ccomp</textPath>\n",
              "    </text>\n",
              "    <path class=\"displacy-arrowhead\" d=\"M1275.0,179.0 L1283.0,167.0 1267.0,167.0\" fill=\"currentColor\"/>\n",
              "</g>\n",
              "\n",
              "<g class=\"displacy-arrow\">\n",
              "    <path class=\"displacy-arc\" id=\"arrow-64a9d48ee9ed4af898dd35b65d624095-0-7\" stroke-width=\"2px\" d=\"M1295,177.0 C1295,89.5 1445.0,89.5 1445.0,177.0\" fill=\"none\" stroke=\"currentColor\"/>\n",
              "    <text dy=\"1.25em\" style=\"font-size: 0.8em; letter-spacing: 1px\">\n",
              "        <textPath xlink:href=\"#arrow-64a9d48ee9ed4af898dd35b65d624095-0-7\" class=\"displacy-label\" startOffset=\"50%\" side=\"left\" fill=\"currentColor\" text-anchor=\"middle\">dobj</textPath>\n",
              "    </text>\n",
              "    <path class=\"displacy-arrowhead\" d=\"M1445.0,179.0 L1453.0,167.0 1437.0,167.0\" fill=\"currentColor\"/>\n",
              "</g>\n",
              "</svg></span>"
            ],
            "text/plain": [
              "<IPython.core.display.HTML object>"
            ]
          },
          "metadata": {},
          "output_type": "display_data"
        }
      ],
      "source": [
        "doc=nlp('Successfully downloaded textblob nltk regex click joblib tqdm colorama')\n",
        "ds=displacy.render(doc,style='dep')\n",
        "ds"
      ]
    },
    {
      "cell_type": "code",
      "execution_count": null,
      "id": "6f42c93d-c8ef-4dcf-86e1-bfc796e928e0",
      "metadata": {
        "id": "6f42c93d-c8ef-4dcf-86e1-bfc796e928e0",
        "outputId": "355cb547-a557-45a5-8045-b2a6e1fb9e5b"
      },
      "outputs": [
        {
          "data": {
            "text/plain": [
              "['Successfully',\n",
              " 'nltk',\n",
              " 'downloaded',\n",
              " 'textblob',\n",
              " 'nltk',\n",
              " 'downloaded',\n",
              " 'nltk',\n",
              " 'regex',\n",
              " 'downloaded',\n",
              " 'textblob',\n",
              " 'click',\n",
              " 'joblib',\n",
              " 'tqdm',\n",
              " 'colorama',\n",
              " 'textblob']"
            ]
          },
          "execution_count": 45,
          "metadata": {},
          "output_type": "execute_result"
        }
      ],
      "source": [
        "text='Successfully nltk downloaded textblob nltk downloaded nltk regex downloaded textblob click joblib tqdm colorama textblob '\n",
        "AS=word_tokenize(text)\n",
        "AS"
      ]
    },
    {
      "cell_type": "code",
      "execution_count": null,
      "id": "0f73d27c-7f70-46af-a0a9-ec255cd7946c",
      "metadata": {
        "id": "0f73d27c-7f70-46af-a0a9-ec255cd7946c",
        "outputId": "973ce158-c7ae-499a-fa61-958836b90331"
      },
      "outputs": [
        {
          "data": {
            "text/plain": [
              "Text(0.5, 0.98, 'Frequency of the words')"
            ]
          },
          "execution_count": 46,
          "metadata": {},
          "output_type": "execute_result"
        },
        {
          "data": {
            "image/png": "[encoded data removed]",
            "text/plain": [
              "<Figure size 1300x500 with 1 Axes>"
            ]
          },
          "metadata": {},
          "output_type": "display_data"
        }
      ],
      "source": [
        "#frequency of the words\n",
        "from nltk import FreqDist\n",
        "s=FreqDist(AS)\n",
        "fig=plt.figure(figsize=(13,5))\n",
        "plt.bar(s.keys(),s.values(),color='gray')\n",
        "fig.suptitle('Frequency of the words',fontsize=24)"
      ]
    },
    {
      "cell_type": "code",
      "execution_count": null,
      "id": "bea18d60-f9e5-4140-9695-ba99d0c5d631",
      "metadata": {
        "id": "bea18d60-f9e5-4140-9695-ba99d0c5d631",
        "outputId": "fae51fa5-431b-42b7-c4b4-253c21e619ce"
      },
      "outputs": [
        {
          "data": {
            "text/plain": [
              "[('nltk', 3),\n",
              " ('downloaded', 3),\n",
              " ('textblob', 3),\n",
              " ('Successfully', 1),\n",
              " ('regex', 1)]"
            ]
          },
          "execution_count": 47,
          "metadata": {},
          "output_type": "execute_result"
        }
      ],
      "source": [
        "#5 top freq words\n",
        "s.most_common(5)"
      ]
    },
    {
      "cell_type": "markdown",
      "id": "be8c9f81-bc19-4123-9ea4-48cb6c4e13d4",
      "metadata": {
        "id": "be8c9f81-bc19-4123-9ea4-48cb6c4e13d4"
      },
      "source": [
        "## text cleaning"
      ]
    },
    {
      "cell_type": "code",
      "execution_count": null,
      "id": "d67efb6f-936b-46bf-ba4d-b89cf8f5def9",
      "metadata": {
        "id": "d67efb6f-936b-46bf-ba4d-b89cf8f5def9",
        "outputId": "14051129-e72e-4ada-ca78-1dbf386e2ad6"
      },
      "outputs": [
        {
          "name": "stdout",
          "output_type": "stream",
          "text": [
            "covid19 is fatal disease :\n"
          ]
        }
      ],
      "source": [
        "def remove_URL(text):\n",
        "    url = re.compile(r'https?://\\S+|www\\.\\S+')\n",
        "    return url.sub(r'',text)\n",
        "\n",
        "exam=\"covid19 is fatal disease :https://www.kaggle.com/c/nlp-getting-started\"\n",
        "print(remove_URL(exam))"
      ]
    },
    {
      "cell_type": "code",
      "execution_count": null,
      "id": "c45d7092-0f99-4ce4-9d4f-ce58b002b73e",
      "metadata": {
        "id": "c45d7092-0f99-4ce4-9d4f-ce58b002b73e",
        "outputId": "678f73ff-b41d-41ee-ab9d-e669efd27ed6"
      },
      "outputs": [
        {
          "name": "stdout",
          "output_type": "stream",
          "text": [
            "\n",
            "'Michigan governor violated social distancing order while signing stay-at-home order.\t\t'\n",
            "enter\n",
            "\n"
          ]
        }
      ],
      "source": [
        "def remove_html(text):\n",
        "    html=re.compile(r'<.*?>')\n",
        "    return html.sub(r'',text)\n",
        "\n",
        "exam=\"\"\"<div>\n",
        "<h1>'Michigan governor violated social distancing order while signing stay-at-home order.\\t\\t'</h1>\n",
        "<a href=\"https://www.kaggle.com/c/nlp-getting-started\">enter</a>\n",
        "</div>\"\"\"\n",
        "print(remove_html(exam))"
      ]
    },
    {
      "cell_type": "code",
      "execution_count": null,
      "id": "bbebda13-9465-4a5e-9f4b-a7fd18a67e55",
      "metadata": {
        "id": "bbebda13-9465-4a5e-9f4b-a7fd18a67e55",
        "outputId": "002aa4ae-fc9e-4e45-9e23-d08d281f84c1"
      },
      "outputs": [
        {
          "name": "stderr",
          "output_type": "stream",
          "text": [
            "[nltk_data] Downloading package wordnet to\n",
            "[nltk_data]     C:\\Users\\Dr\\AppData\\Roaming\\nltk_data...\n"
          ]
        },
        {
          "data": {
            "text/plain": [
              "True"
            ]
          },
          "execution_count": 56,
          "metadata": {},
          "output_type": "execute_result"
        }
      ],
      "source": [
        "# nltk.download('wordnet')"
      ]
    },
    {
      "cell_type": "code",
      "execution_count": null,
      "id": "f19153b3-a7ac-4f03-a524-2d21a638d0ca",
      "metadata": {
        "id": "f19153b3-a7ac-4f03-a524-2d21a638d0ca"
      },
      "outputs": [],
      "source": [
        "from nltk.stem import WordNetLemmatizer\n",
        "lemmatizer = WordNetLemmatizer()"
      ]
    },
    {
      "cell_type": "code",
      "execution_count": null,
      "id": "7115f64a-ed0b-4045-a779-d2ddbde68d0a",
      "metadata": {
        "id": "7115f64a-ed0b-4045-a779-d2ddbde68d0a"
      },
      "outputs": [],
      "source": [
        "fg=[lemmatizer.lemmatize(tok) for tok in word_tokenize(remove_html(exam))]\n",
        "fg"
      ]
    },
    {
      "cell_type": "code",
      "execution_count": null,
      "id": "c1c125e6-57a7-46f3-99b6-3ca4b82a5326",
      "metadata": {
        "id": "c1c125e6-57a7-46f3-99b6-3ca4b82a5326",
        "outputId": "b01fa173-f793-4e64-dfa0-0f0cee0db2c1"
      },
      "outputs": [
        {
          "data": {
            "text/plain": [
              "[\"'Michigan\",\n",
              " 'governor',\n",
              " 'violated',\n",
              " 'social',\n",
              " 'distancing',\n",
              " 'order',\n",
              " 'while',\n",
              " 'signing',\n",
              " 'stay-at-home',\n",
              " 'order.',\n",
              " \"'\",\n",
              " 'enter']"
            ]
          },
          "execution_count": 62,
          "metadata": {},
          "output_type": "execute_result"
        }
      ],
      "source": [
        "fg"
      ]
    },
    {
      "cell_type": "code",
      "execution_count": null,
      "id": "65d00391-9e84-40a4-8d87-380599b51c8a",
      "metadata": {
        "id": "65d00391-9e84-40a4-8d87-380599b51c8a",
        "outputId": "c40b768d-211b-418b-cecf-e30ccd796f26"
      },
      "outputs": [
        {
          "data": {
            "text/plain": [
              "[\"'michigan\",\n",
              " 'governor',\n",
              " 'violat',\n",
              " 'social',\n",
              " 'distanc',\n",
              " 'order',\n",
              " 'while',\n",
              " 'sign',\n",
              " 'stay-at-hom',\n",
              " 'order.',\n",
              " \"'\",\n",
              " 'enter']"
            ]
          },
          "execution_count": 63,
          "metadata": {},
          "output_type": "execute_result"
        }
      ],
      "source": [
        "from nltk.stem import PorterStemmer\n",
        "stem=PorterStemmer()\n",
        "fg=[stem.stem(tok) for tok in word_tokenize(remove_html(exam))]\n",
        "fg"
      ]
    }
  ],
  "metadata": {
    "kernelspec": {
      "display_name": "Python 3 (ipykernel)",
      "language": "python",
      "name": "python3"
    },
    "language_info": {
      "codemirror_mode": {
        "name": "ipython",
        "version": 3
      },
      "file_extension": ".py",
      "mimetype": "text/x-python",
      "name": "python",
      "nbconvert_exporter": "python",
      "pygments_lexer": "ipython3",
      "version": "3.10.2"
    },
    "colab": {
      "provenance": []
    }
  },
  "nbformat": 4,
  "nbformat_minor": 5
}